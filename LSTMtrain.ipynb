{
  "cells": [
    {
      "cell_type": "markdown",
      "metadata": {
        "colab_type": "text",
        "id": "view-in-github"
      },
      "source": [
        "<a href=\"https://colab.research.google.com/github/amithpaul/LSTMPdM/blob/main/LSTMtrain.ipynb\" target=\"_parent\"><img src=\"https://colab.research.google.com/assets/colab-badge.svg\" alt=\"Open In Colab\"/></a>"
      ]
    },
    {
      "cell_type": "code",
      "execution_count": 2,
      "metadata": {
        "colab": {
          "base_uri": "https://localhost:8080/"
        },
        "id": "SSASNYKL6ave",
        "outputId": "fe09d163-8ca6-4e9d-c9b5-1cca3c8b90f0"
      },
      "outputs": [],
      "source": [
        "# prompt: import numpy as np\n",
        "# from tensorflow.keras.models import Model\n",
        "# from tensorflow.keras.layers import LSTM, Dense, Input\n",
        "# from tensorflow.keras.callbacks import EarlyStopping\n",
        "# install libraries for these\n",
        "\n",
        "\n",
        "\n"
      ]
    },
    {
      "cell_type": "code",
      "execution_count": null,
      "metadata": {
        "colab": {
          "base_uri": "https://localhost:8080/"
        },
        "collapsed": true,
        "id": "ulG9w0pp6rCH",
        "outputId": "c21b29e3-0468-461a-cb99-218e59537c73"
      },
      "outputs": [
        {
          "name": "stdout",
          "output_type": "stream",
          "text": [
            "Shape of loaded data: (1284398, 38)\n"
          ]
        }
      ],
      "source": [
        "import numpy as np\n",
        "from tensorflow.keras.models import Model\n",
        "from tensorflow.keras.layers import LSTM, Dense, Input, Masking, Dropout\n",
        "from tensorflow.keras.callbacks import EarlyStopping\n",
        "from tensorflow.keras import backend as K\n",
        "import tensorflow as tf\n",
        "import matplotlib as plt\n",
        "tf.config.set_visible_devices([], 'GPU')\n",
        "\n",
        "# Clear the Keras session to reset the model's state\n",
        "K.clear_session()\n",
        "\n",
        "early_stop = EarlyStopping(monitor=\"val_loss\", patience=5, restore_best_weights=True)\n",
        "\n",
        "# Load preprocessed dataset\n",
        "data = np.load(\"processed_datasets/scaled_minmax.npy\").astype(np.float32)  # Ensure float32\n",
        "print(\"Shape of loaded data:\", data.shape)\n",
        "input_dim = data.shape[1]  # Number of features"
      ]
    },
    {
      "cell_type": "code",
      "execution_count": 8,
      "metadata": {
        "id": "IzV0QV2h7CbH"
      },
      "outputs": [],
      "source": [
        "# Create sequences\n",
        "seq_length = 180  # Adjust based on your dataset\n",
        "def create_sequences(data, seq_length):\n",
        "    sequences = []\n",
        "    for i in range(len(data) - seq_length):\n",
        "        sequences.append(data[i : i + seq_length])\n",
        "    return np.array(sequences)\n",
        "\n",
        "X_train = create_sequences(data, seq_length)"
      ]
    },
    {
      "cell_type": "code",
      "execution_count": 10,
      "metadata": {
        "id": "-Q1J69wg7E--"
      },
      "outputs": [
        {
          "name": "stderr",
          "output_type": "stream",
          "text": [
            "/Users/amith_abhay/Documents/PdM/.conda/lib/python3.9/site-packages/keras/src/trainers/trainer.py:212: UserWarning: Model doesn't support `jit_compile=True`. Proceeding with `jit_compile=False`.\n",
            "  warnings.warn(\n"
          ]
        }
      ],
      "source": [
        "# LSTM Autoencoder\n",
        "timesteps, features = X_train.shape[1], X_train.shape[2]\n",
        "\n",
        "\n",
        "input_layer = Input(shape=(timesteps, features))\n",
        "masked_input = Masking(mask_value=-1)(input_layer)\n",
        "encoded = LSTM(64, activation=\"relu\", return_sequences=True)(masked_input)\n",
        "encoded = Dropout(0.2)(encoded)  # NEW DROPOUT\n",
        "encoded = LSTM(32, activation=\"relu\", return_sequences=True)(encoded)\n",
        "\n",
        "decoded = Dense(64, activation=\"relu\")(encoded)\n",
        "decoded = Dense(features, activation=\"sigmoid\")(decoded)\n",
        "\n",
        "autoencoder = Model(input_layer, decoded)\n",
        "autoencoder.compile(optimizer=\"adam\", loss=\"mse\",jit_compile=True)"
      ]
    },
    {
      "cell_type": "code",
      "execution_count": 13,
      "metadata": {},
      "outputs": [],
      "source": [
        "class PlotLossCallback(tf.keras.callbacks.Callback):\n",
        "    def on_train_begin(self, logs={}):\n",
        "        self.losses = []\n",
        "        self.val_losses = []\n",
        "        plt.ion()  # Turn on interactive mode\n",
        "\n",
        "    def on_epoch_end(self, epoch, logs={}):\n",
        "        self.losses.append(logs.get('loss'))\n",
        "        self.val_losses.append(logs.get('val_loss'))\n",
        "\n",
        "        # Clear previous plot\n",
        "        plt.clf()\n",
        "        plt.plot(self.losses, label='Training Loss')\n",
        "        plt.plot(self.val_losses, label='Validation Loss')\n",
        "        plt.xlabel('Epochs')\n",
        "        plt.ylabel('Loss')\n",
        "        plt.legend()\n",
        "        plt.pause(0.1)  # Pause to update the figure\n",
        "\n",
        "        print(f\"Epoch {epoch+1}: loss = {logs.get('loss'):.5f}, val_loss = {logs.get('val_loss'):.5f}\")\n"
      ]
    },
    {
      "cell_type": "code",
      "execution_count": null,
      "metadata": {
        "colab": {
          "base_uri": "https://localhost:8080/"
        },
        "id": "naNHsLQU7IZq",
        "outputId": "6112e33f-8315-459b-8724-c3f9c087ac3a"
      },
      "outputs": [],
      "source": [
        "# Train the model\n",
        "autoencoder.fit(\n",
        "    X_train, X_train,\n",
        "    epochs=200, batch_size=256,\n",
        "    validation_split=0.1,\n",
        "    callbacks=[early_stop, PlotLossCallback]\n",
        ")"
      ]
    },
    {
      "cell_type": "code",
      "execution_count": null,
      "metadata": {
        "id": "1HTrC6ME7KAd"
      },
      "outputs": [],
      "source": [
        "# Save the model\n",
        "autoencoder.save(\"lstm_autoencoderV2.keras\")"
      ]
    },
    {
      "cell_type": "code",
      "execution_count": null,
      "metadata": {},
      "outputs": [],
      "source": []
    },
    {
      "cell_type": "code",
      "execution_count": null,
      "metadata": {},
      "outputs": [],
      "source": []
    }
  ],
  "metadata": {
    "accelerator": "GPU",
    "colab": {
      "authorship_tag": "ABX9TyPkisiUwXPmBKzY3n/sv8oN",
      "gpuType": "T4",
      "include_colab_link": true,
      "mount_file_id": "1nXTR9DcbvcAB0mA-knJJOMo4JwQ8zCou",
      "provenance": []
    },
    "kernelspec": {
      "display_name": "Python 3",
      "name": "python3"
    },
    "language_info": {
      "codemirror_mode": {
        "name": "ipython",
        "version": 3
      },
      "file_extension": ".py",
      "mimetype": "text/x-python",
      "name": "python",
      "nbconvert_exporter": "python",
      "pygments_lexer": "ipython3",
      "version": "3.9.18"
    }
  },
  "nbformat": 4,
  "nbformat_minor": 0
}
